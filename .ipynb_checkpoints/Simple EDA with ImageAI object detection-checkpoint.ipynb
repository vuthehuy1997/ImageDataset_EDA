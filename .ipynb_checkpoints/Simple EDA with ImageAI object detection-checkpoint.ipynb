{
 "cells": [
  {
   "cell_type": "code",
   "execution_count": 3,
   "id": "0ca2773a-52a3-40b2-8828-7ba2f73553d2",
   "metadata": {},
   "outputs": [],
   "source": [
    "import numpy as np\n",
    "import pandas as pd\n",
    "import cv2\n",
    "import matplotlib.pyplot as plt\n",
    "import matplotlib.patches as patches\n",
    "import os\n",
    "from math import sin, cos"
   ]
  },
  {
   "cell_type": "code",
   "execution_count": null,
   "id": "a0f0903e-a96c-4191-9d75-9e6d40c26145",
   "metadata": {},
   "outputs": [],
   "source": [
    "data_image_path = '/media/huyvt/DATA/adtech/OCR/visa/dataset/visa_v2/train/images_Object'\n",
    "data_label_path = '/media/huyvt/DATA/adtech/OCR/visa/dataset/visa_v2/train/labelme_OCR_Object'\n"
   ]
  }
 ],
 "metadata": {
  "kernelspec": {
   "display_name": "Python 3 (ipykernel)",
   "language": "python",
   "name": "python3"
  },
  "language_info": {
   "codemirror_mode": {
    "name": "ipython",
    "version": 3
   },
   "file_extension": ".py",
   "mimetype": "text/x-python",
   "name": "python",
   "nbconvert_exporter": "python",
   "pygments_lexer": "ipython3",
   "version": "3.9.15"
  }
 },
 "nbformat": 4,
 "nbformat_minor": 5
}
